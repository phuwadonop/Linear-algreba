{
 "cells": [
  {
   "cell_type": "code",
   "execution_count": 62,
   "metadata": {},
   "outputs": [],
   "source": [
    "import pandas as pd\n",
    "import numpy as np\n",
    "import seaborn as sns\n",
    "import matplotlib.pyplot as plt\n",
    "\n",
    "from pandas.plotting import register_matplotlib_converters\n",
    "register_matplotlib_converters()\n",
    "\n",
    "%matplotlib inline\n",
    "%config InlineBacked.figure_format='retina'"
   ]
  },
  {
   "cell_type": "code",
   "execution_count": 63,
   "metadata": {},
   "outputs": [
    {
     "name": "stdout",
     "output_type": "stream",
     "text": [
      "<class 'pandas.core.frame.DataFrame'>\n",
      "RangeIndex: 129 entries, 0 to 128\n",
      "Data columns (total 5 columns):\n",
      " #   Column  Non-Null Count  Dtype         \n",
      "---  ------  --------------  -----         \n",
      " 0   date    129 non-null    datetime64[ns]\n",
      " 1   bfw     129 non-null    object        \n",
      " 2   w       129 non-null    object        \n",
      " 3   rt      129 non-null    object        \n",
      " 4   total   129 non-null    object        \n",
      "dtypes: datetime64[ns](1), object(4)\n",
      "memory usage: 5.2+ KB\n"
     ]
    }
   ],
   "source": [
    "data = pd.read_csv('thaipop.csv')\n",
    "data.dropna(axis='columns',inplace=True)\n",
    "data.drop(['x-axis','date'],axis='columns',inplace=True)\n",
    "time = pd.date_range('2011',periods=129,freq='M')\n",
    "data.insert(0,'date',time)\n",
    "\n",
    "data.info()"
   ]
  },
  {
   "cell_type": "code",
   "execution_count": 64,
   "metadata": {},
   "outputs": [
    {
     "data": {
      "text/html": [
       "<div>\n",
       "<style scoped>\n",
       "    .dataframe tbody tr th:only-of-type {\n",
       "        vertical-align: middle;\n",
       "    }\n",
       "\n",
       "    .dataframe tbody tr th {\n",
       "        vertical-align: top;\n",
       "    }\n",
       "\n",
       "    .dataframe thead th {\n",
       "        text-align: right;\n",
       "    }\n",
       "</style>\n",
       "<table border=\"1\" class=\"dataframe\">\n",
       "  <thead>\n",
       "    <tr style=\"text-align: right;\">\n",
       "      <th></th>\n",
       "      <th>date</th>\n",
       "      <th>bfw</th>\n",
       "      <th>w</th>\n",
       "      <th>rt</th>\n",
       "      <th>total</th>\n",
       "    </tr>\n",
       "  </thead>\n",
       "  <tbody>\n",
       "    <tr>\n",
       "      <th>0</th>\n",
       "      <td>2011-01-31</td>\n",
       "      <td>11434473</td>\n",
       "      <td>43117850</td>\n",
       "      <td>8050302</td>\n",
       "      <td>62602625</td>\n",
       "    </tr>\n",
       "    <tr>\n",
       "      <th>1</th>\n",
       "      <td>2011-02-28</td>\n",
       "      <td>11485427</td>\n",
       "      <td>43108601</td>\n",
       "      <td>8029726</td>\n",
       "      <td>62623754</td>\n",
       "    </tr>\n",
       "    <tr>\n",
       "      <th>2</th>\n",
       "      <td>2011-03-31</td>\n",
       "      <td>11537724</td>\n",
       "      <td>43098162</td>\n",
       "      <td>8009742</td>\n",
       "      <td>62645628</td>\n",
       "    </tr>\n",
       "    <tr>\n",
       "      <th>3</th>\n",
       "      <td>2011-04-30</td>\n",
       "      <td>11593359</td>\n",
       "      <td>43063835</td>\n",
       "      <td>7989684</td>\n",
       "      <td>62646878</td>\n",
       "    </tr>\n",
       "    <tr>\n",
       "      <th>4</th>\n",
       "      <td>2011-05-31</td>\n",
       "      <td>11665017</td>\n",
       "      <td>43059560</td>\n",
       "      <td>7966507</td>\n",
       "      <td>62691084</td>\n",
       "    </tr>\n",
       "    <tr>\n",
       "      <th>...</th>\n",
       "      <td>...</td>\n",
       "      <td>...</td>\n",
       "      <td>...</td>\n",
       "      <td>...</td>\n",
       "      <td>...</td>\n",
       "    </tr>\n",
       "    <tr>\n",
       "      <th>124</th>\n",
       "      <td>2021-05-31</td>\n",
       "      <td>10613614</td>\n",
       "      <td>42558670</td>\n",
       "      <td>11821609</td>\n",
       "      <td>64993893</td>\n",
       "    </tr>\n",
       "    <tr>\n",
       "      <th>125</th>\n",
       "      <td>2021-06-30</td>\n",
       "      <td>10594341</td>\n",
       "      <td>42537307</td>\n",
       "      <td>11853998</td>\n",
       "      <td>64985646</td>\n",
       "    </tr>\n",
       "    <tr>\n",
       "      <th>126</th>\n",
       "      <td>2021-07-31</td>\n",
       "      <td>10568532</td>\n",
       "      <td>42523388</td>\n",
       "      <td>11882208</td>\n",
       "      <td>64974128</td>\n",
       "    </tr>\n",
       "    <tr>\n",
       "      <th>127</th>\n",
       "      <td>2021-08-31</td>\n",
       "      <td>10545739</td>\n",
       "      <td>42508214</td>\n",
       "      <td>11906511</td>\n",
       "      <td>64960464</td>\n",
       "    </tr>\n",
       "    <tr>\n",
       "      <th>128</th>\n",
       "      <td>2021-09-30</td>\n",
       "      <td>10523316</td>\n",
       "      <td>42504062</td>\n",
       "      <td>11937000</td>\n",
       "      <td>64964378</td>\n",
       "    </tr>\n",
       "  </tbody>\n",
       "</table>\n",
       "<p>129 rows × 5 columns</p>\n",
       "</div>"
      ],
      "text/plain": [
       "          date       bfw         w        rt     total\n",
       "0   2011-01-31  11434473  43117850   8050302  62602625\n",
       "1   2011-02-28  11485427  43108601   8029726  62623754\n",
       "2   2011-03-31  11537724  43098162   8009742  62645628\n",
       "3   2011-04-30  11593359  43063835   7989684  62646878\n",
       "4   2011-05-31  11665017  43059560   7966507  62691084\n",
       "..         ...       ...       ...       ...       ...\n",
       "124 2021-05-31  10613614  42558670  11821609  64993893\n",
       "125 2021-06-30  10594341  42537307  11853998  64985646\n",
       "126 2021-07-31  10568532  42523388  11882208  64974128\n",
       "127 2021-08-31  10545739  42508214  11906511  64960464\n",
       "128 2021-09-30  10523316  42504062  11937000  64964378\n",
       "\n",
       "[129 rows x 5 columns]"
      ]
     },
     "execution_count": 64,
     "metadata": {},
     "output_type": "execute_result"
    }
   ],
   "source": [
    "\n",
    "for col in data[['bfw','w','rt','total']] :\n",
    "    data[col] = data[col].str.replace(',','')\n",
    "    data[col] = pd.to_numeric(data[col])\n",
    "data"
   ]
  },
  {
   "cell_type": "markdown",
   "metadata": {},
   "source": [
    "Pearson Correlation"
   ]
  },
  {
   "cell_type": "code",
   "execution_count": 65,
   "metadata": {},
   "outputs": [
    {
     "data": {
      "text/html": [
       "<style type=\"text/css\">\n",
       "#T_2763d_row0_col0, #T_2763d_row1_col1, #T_2763d_row2_col2, #T_2763d_row3_col3 {\n",
       "  background-color: #023858;\n",
       "  color: #f1f1f1;\n",
       "}\n",
       "#T_2763d_row0_col1 {\n",
       "  background-color: #1379b5;\n",
       "  color: #f1f1f1;\n",
       "}\n",
       "#T_2763d_row0_col2, #T_2763d_row0_col3, #T_2763d_row2_col0, #T_2763d_row2_col1 {\n",
       "  background-color: #fff7fb;\n",
       "  color: #000000;\n",
       "}\n",
       "#T_2763d_row1_col0 {\n",
       "  background-color: #056aa6;\n",
       "  color: #f1f1f1;\n",
       "}\n",
       "#T_2763d_row1_col2 {\n",
       "  background-color: #d3d4e7;\n",
       "  color: #000000;\n",
       "}\n",
       "#T_2763d_row1_col3 {\n",
       "  background-color: #abbfdc;\n",
       "  color: #000000;\n",
       "}\n",
       "#T_2763d_row2_col3 {\n",
       "  background-color: #04588a;\n",
       "  color: #f1f1f1;\n",
       "}\n",
       "#T_2763d_row3_col0 {\n",
       "  background-color: #ced0e6;\n",
       "  color: #000000;\n",
       "}\n",
       "#T_2763d_row3_col1 {\n",
       "  background-color: #a5bddb;\n",
       "  color: #000000;\n",
       "}\n",
       "#T_2763d_row3_col2 {\n",
       "  background-color: #034f7d;\n",
       "  color: #f1f1f1;\n",
       "}\n",
       "</style>\n",
       "<table id=\"T_2763d_\">\n",
       "  <thead>\n",
       "    <tr>\n",
       "      <th class=\"blank level0\" >&nbsp;</th>\n",
       "      <th class=\"col_heading level0 col0\" >bfw</th>\n",
       "      <th class=\"col_heading level0 col1\" >w</th>\n",
       "      <th class=\"col_heading level0 col2\" >rt</th>\n",
       "      <th class=\"col_heading level0 col3\" >total</th>\n",
       "    </tr>\n",
       "  </thead>\n",
       "  <tbody>\n",
       "    <tr>\n",
       "      <th id=\"T_2763d_level0_row0\" class=\"row_heading level0 row0\" >bfw</th>\n",
       "      <td id=\"T_2763d_row0_col0\" class=\"data row0 col0\" >1.000000</td>\n",
       "      <td id=\"T_2763d_row0_col1\" class=\"data row0 col1\" >0.625193</td>\n",
       "      <td id=\"T_2763d_row0_col2\" class=\"data row0 col2\" >-0.714241</td>\n",
       "      <td id=\"T_2763d_row0_col3\" class=\"data row0 col3\" >-0.273677</td>\n",
       "    </tr>\n",
       "    <tr>\n",
       "      <th id=\"T_2763d_level0_row1\" class=\"row_heading level0 row1\" >w</th>\n",
       "      <td id=\"T_2763d_row1_col0\" class=\"data row1 col0\" >0.625193</td>\n",
       "      <td id=\"T_2763d_row1_col1\" class=\"data row1 col1\" >1.000000</td>\n",
       "      <td id=\"T_2763d_row1_col2\" class=\"data row1 col2\" >-0.307079</td>\n",
       "      <td id=\"T_2763d_row1_col3\" class=\"data row1 col3\" >0.185935</td>\n",
       "    </tr>\n",
       "    <tr>\n",
       "      <th id=\"T_2763d_level0_row2\" class=\"row_heading level0 row2\" >rt</th>\n",
       "      <td id=\"T_2763d_row2_col0\" class=\"data row2 col0\" >-0.714241</td>\n",
       "      <td id=\"T_2763d_row2_col1\" class=\"data row2 col1\" >-0.307079</td>\n",
       "      <td id=\"T_2763d_row2_col2\" class=\"data row2 col2\" >1.000000</td>\n",
       "      <td id=\"T_2763d_row2_col3\" class=\"data row2 col3\" >0.849752</td>\n",
       "    </tr>\n",
       "    <tr>\n",
       "      <th id=\"T_2763d_level0_row3\" class=\"row_heading level0 row3\" >total</th>\n",
       "      <td id=\"T_2763d_row3_col0\" class=\"data row3 col0\" >-0.273677</td>\n",
       "      <td id=\"T_2763d_row3_col1\" class=\"data row3 col1\" >0.185935</td>\n",
       "      <td id=\"T_2763d_row3_col2\" class=\"data row3 col2\" >0.849752</td>\n",
       "      <td id=\"T_2763d_row3_col3\" class=\"data row3 col3\" >1.000000</td>\n",
       "    </tr>\n",
       "  </tbody>\n",
       "</table>\n"
      ],
      "text/plain": [
       "<pandas.io.formats.style.Styler at 0x1a19e04ce80>"
      ]
     },
     "execution_count": 65,
     "metadata": {},
     "output_type": "execute_result"
    }
   ],
   "source": [
    "dcrr = data[['bfw','w','rt','total']].corr()\n",
    "dcrr.style.background_gradient()"
   ]
  },
  {
   "cell_type": "code",
   "execution_count": 69,
   "metadata": {},
   "outputs": [
    {
     "data": {
      "text/plain": [
       "array([[1., 1., 1., 1.],\n",
       "       [0., 1., 1., 1.],\n",
       "       [0., 0., 1., 1.],\n",
       "       [0., 0., 0., 1.]])"
      ]
     },
     "execution_count": 69,
     "metadata": {},
     "output_type": "execute_result"
    }
   ],
   "source": [
    "mask = np.zeros_like(dcrr)\n",
    "mask[np.triu_indices_from(mask)] = True\n",
    "mask"
   ]
  },
  {
   "cell_type": "code",
   "execution_count": 72,
   "metadata": {},
   "outputs": [
    {
     "data": {
      "text/plain": [
       "<AxesSubplot:>"
      ]
     },
     "execution_count": 72,
     "metadata": {},
     "output_type": "execute_result"
    },
    {
     "data": {
      "image/png": "[encoded data removed]",
      "text/plain": [
       "<Figure size 432x288 with 2 Axes>"
      ]
     },
     "metadata": {
      "needs_background": "light"
     },
     "output_type": "display_data"
    }
   ],
   "source": [
    "sns.heatmap(dcrr ,cmap = 'Greens',annot = True ,fmt = '.2f',mask= mask , linewidths=0.5)"
   ]
  }
 ],
 "metadata": {
  "interpreter": {
   "hash": "be6aeba89de9797ca86febdfc9d649304c3eeb55bd638ee89e6fe8e1eca5636f"
  },
  "kernelspec": {
   "display_name": "Python 3.9.7 64-bit",
   "name": "python3"
  },
  "language_info": {
   "codemirror_mode": {
    "name": "ipython",
    "version": 3
   },
   "file_extension": ".py",
   "mimetype": "text/x-python",
   "name": "python",
   "nbconvert_exporter": "python",
   "pygments_lexer": "ipython3",
   "version": "3.9.7"
  },
  "orig_nbformat": 4
 },
 "nbformat": 4,
 "nbformat_minor": 2
}
